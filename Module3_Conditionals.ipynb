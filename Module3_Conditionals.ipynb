Program: Cheese Order
======================================================================

order_amount= float(input("Enter cheese order weight (numeric value):"))
chee_cost = 1.99
if order_amount < 0.5:
    print(order_amount, "is below minimum order amount")
elif order_amount >115.0:
    print(order_amount, "is more than currently available stock")
else:
    print(order_amount, "costs","$",float(order_amount)*chee_cost)
 
----------------------------------------------------------------------
Sample output:

Enter cheese order weight (numeric value): 113
113.0 is more than currently available stock

Enter cheese order weight (numeric value): .15
0.15 is below minimum order amount

Enter cheese order weight (numeric value): 2
2.0 costs $15.98
